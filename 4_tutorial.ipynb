{
 "cells": [
  {
   "cell_type": "code",
   "execution_count": null,
   "id": "542decd8-a34a-4d58-bfc8-e52beb2d7aa3",
   "metadata": {
    "tags": []
   },
   "outputs": [],
   "source": [
    "import hist\n",
    "import warnings\n",
    "import numpy as np\n",
    "import awkward as ak\n",
    "import matplotlib.pyplot as plt\n",
    "from coffea.nanoevents import NanoEventsFactory, NanoAODSchema\n",
    "import correctionlib\n",
    "\n",
    "warnings.filterwarnings(\"ignore\", message=\"Missing cross-reference index \")\n",
    "\n",
    "fname = \"root://xcache//store/mc/RunIISummer20UL17NanoAODv2/TTToSemiLeptonic_TuneCP5_13TeV-powheg-pythia8/NANOAODSIM/106X_mc2017_realistic_v8-v1/120000/2A2F4EC9-F9BB-DF43-B08D-525B5389937E.root\"\n",
    "events = NanoEventsFactory.from_root(fname, schemaclass=NanoAODSchema).events()"
   ]
  },
  {
   "cell_type": "markdown",
   "id": "6ffb8ffc-ae0d-409b-8da1-0c19dc9b543b",
   "metadata": {},
   "source": [
    "## **Heavy-flavour tagging**\n",
    "\n",
    "We have seen that a Jet is a narrow cone of hadrons, leptons, … produced by hadronization of a quark (i.e. u, d, s, c, b; t does not hadronize!) or a gluon. In CMS, a Jet is a reconstructed object via the anti-kT algorithm: clustering particles that are associated to ECAL or HCAL hits or to tracks into a jet cone.\n",
    "\n",
    "Heavy-flavour jet identification exploits the properties of the hadrons originated in the jet to discriminate heavy flavour (b-,c-) initiated jets from those arising from light partons. \n",
    "\n",
    "B-tagging is an essential tool to be exploited to study physics processes with b-jets in their final state. "
   ]
  },
  {
   "cell_type": "markdown",
   "id": "f14ed401-84f4-4028-a728-357bc9568236",
   "metadata": {},
   "source": [
    "<div>\n",
    "<img src=\"https://camo.githubusercontent.com/1fefe17531f39b727c6b85b0de50e9cc131969b9b7b85accd5723c22306d36c8/68747470733a2f2f692e696d6775722e636f6d2f4f57685831334f2e6a7067\" width=\"500\"/>\n",
    "</div>"
   ]
  },
  {
   "cell_type": "markdown",
   "id": "21258533-9eac-4c7f-a629-006b32d70d86",
   "metadata": {
    "tags": []
   },
   "source": [
    "B-jet tagging rely on b-hadron properties:\n",
    "* Long B hadron lifetimes of ~1.5 ps → decay length of ~0.5 mm up to few mm in CMS detector leading to a distinct secondary vertex (SV) different from the primary vertex (PV) of the pp collision event\n",
    "\n",
    "* Displaced tracks inside b and c jets compared to PV (due to hadron decay happening outside PV) → measured by impact parameter (IP)\n",
    "\n",
    "* Bottom and charm quarks more massive compared to 1st generation quarks (4.2 and 1.3 GeV respectively) → B and D hadron decay products with higher transverse momenta, resulting in wider jet cones and higher number of jet constituents."
   ]
  },
  {
   "cell_type": "markdown",
   "id": "3ba35588-0d71-4680-b7cd-691488d62f59",
   "metadata": {},
   "source": [
    "<div>\n",
    "<img src=\"https://i.imgur.com/l0s4MHK.png\" width=\"500\"/>\n",
    "</div>"
   ]
  },
  {
   "cell_type": "markdown",
   "id": "907cb524-3f40-41c6-8833-ef7d84db3787",
   "metadata": {},
   "source": [
    "A variety of b tagging algorithms has been developed by ATLAS and CMS. We will use *DeepJet* (https://arxiv.org/abs/2008.10519):\n",
    "* DeepJet uses 4 inputs : jet-level variables, charged candidates tracks, neutral candidates and secondary vertices.\n",
    "* Considers inputs as a sequence and recurrent layers, LSTMs, to process information. After this, the information obtained from the different inputs are concatenated together with also jet level variables. The obtained full jet information is filled into fully connected layers before classification"
   ]
  },
  {
   "cell_type": "markdown",
   "id": "9e1454f0-ec39-4ceb-9124-aea99c97fc52",
   "metadata": {},
   "source": [
    "<div>\n",
    "<img src=\"https://i.imgur.com/kBzsPHM.png\" width=\"700\"/>\n",
    "</div>"
   ]
  },
  {
   "cell_type": "markdown",
   "id": "d1e254d1-1ed0-4fb9-87c9-f9506acf533a",
   "metadata": {},
   "source": [
    "We can access the DeepJet discriminator using the `btagDeepFlavB` field in the Jet collection"
   ]
  },
  {
   "cell_type": "code",
   "execution_count": null,
   "id": "bde586ab-ab96-4dda-91a8-53e23bcff87a",
   "metadata": {
    "tags": []
   },
   "outputs": [],
   "source": [
    "events.Jet.btagDeepFlavB"
   ]
  },
  {
   "cell_type": "markdown",
   "id": "d580406c-7dc9-4b1c-aacf-1c02788ba383",
   "metadata": {},
   "source": [
    "As in the case of muon identification and isolation, we can use the tagger in certain working points\n",
    "\n",
    "```\n",
    "deepjet_btag_wps =  {\n",
    "    \"2016APV\": {\n",
    "        \"L\": 0.0508,\n",
    "        \"M\": 0.2598,\n",
    "        \"T\": 0.6502\n",
    "    },\n",
    "    \"2016\": {\n",
    "        \"L\": 0.048,\n",
    "        \"M\": 0.2489,\n",
    "        \"T\": 0.6377\n",
    "    },\n",
    "    \"2017\": {\n",
    "        \"L\": 0.0532,\n",
    "        \"M\": 0.304,\n",
    "        \"T\": 0.7476\n",
    "    },\n",
    "    \"2018\": {\n",
    "        \"L\": 0.049,\n",
    "        \"M\": 0.2783,\n",
    "        \"T\": 0.71\n",
    "    }\n",
    "}\n",
    "```"
   ]
  },
  {
   "cell_type": "markdown",
   "id": "eea14155-0bfe-477d-b00d-770d76d17a9c",
   "metadata": {},
   "source": [
    "<div>\n",
    "<img src=\"https://i.imgur.com/2YAsGjA.png\" width=\"500\"/>\n",
    "</div>\n",
    "\n"
   ]
  },
  {
   "cell_type": "markdown",
   "id": "00b2aebc-a280-4418-9eeb-c3f75930cdcb",
   "metadata": {},
   "source": [
    "## B-tagging scale factors\n",
    "\n",
    "BTV POG measures the b-tagging efficiency scale factors ($ \\text{SF}= \\varepsilon_{\\text{DATA}}/\\varepsilon_{\\text{MC}} $) for b and light flavor jets. The scale factors in general depend on the jet flavor, jet $ p_{\\text{T}} $, and jet $ \\eta $. Scale factors for charm jets can be taken to be the same as for b jets as long as there are no dedicated scale factor measurements for charm jets. Since the b-tagging efficiencies measured in data are somewhat different than those predicted by the simulation, the scale factors need to be applied to simulated events to take this difference into account.\n",
    "\n",
    "Since most methods require the knowledge of the MC b-tagging efficiencies, which depend on the event kinematics, it is important to emphasize that **the BTV POG only provides the scale factors and it is the analyst responsibility to compute the MC b-tagging efficiencies for each jet flavor in their signal and background MC samples before applying the scale factors**. The calculation of the MC b-tagging efficiencies is describe [here](https://github.com/deoache/wprime_plus_b/blob/refactor/corrections/binder/btag_eff.ipynb)."
   ]
  },
  {
   "cell_type": "code",
   "execution_count": null,
   "id": "355b2ee2-3bc0-4a58-8617-292ad74abeae",
   "metadata": {
    "tags": []
   },
   "outputs": [],
   "source": [
    "from coffea import util\n",
    "\n",
    "# efficiency lookup table\n",
    "efflookup = util.load(\"btag_eff_deepJet_M_2017.coffea\")\n",
    "efflookup"
   ]
  },
  {
   "cell_type": "code",
   "execution_count": null,
   "id": "df81e72e-c8cc-4771-9cef-5f963e819564",
   "metadata": {
    "tags": []
   },
   "outputs": [],
   "source": [
    "# bc jets\n",
    "bc_jets = events.Jet[events.Jet.hadronFlavour > 0]\n",
    "\n",
    "# b-tagging efficiency for bc jets\n",
    "eff = efflookup(bc_jets.pt, np.abs(bc_jets.eta), bc_jets.hadronFlavour)\n",
    "eff"
   ]
  },
  {
   "cell_type": "markdown",
   "id": "7919d413-23f4-4f20-9c64-d6fe43047e11",
   "metadata": {},
   "source": [
    "b-tagging weights are computed as (see https://twiki.cern.ch/twiki/bin/viewauth/CMS/BTagSFMethods):\n",
    "\n",
    "  $$w = \\prod_{i=\\text{tagged}} \\frac{SF_{i} \\cdot \\varepsilon_i}{\\varepsilon_i} \\prod_{j=\\text{not tagged}} \\frac{1 - SF_{j} \\cdot \\varepsilon_j}{1-\\varepsilon_j} \\;\\;\\; [1]$$\n",
    "  \n",
    "  where $\\varepsilon_i$ is the MC b-tagging efficiency and $\\text{SF}$ are the b-tagging scale factors. $\\text{SF}_i$ and $\\varepsilon_i$ are functions of the jet flavor, jet $p_T$, and jet $\\eta$. It's important to notice that the two products are 1. over jets tagged at the respective working point, and 2. over jets not tagged at the respective working point. **This is not to be confused with the flavor of the jets**."
   ]
  },
  {
   "cell_type": "markdown",
   "id": "9154d6e4-8fe2-492d-9975-e4c32a83d1f5",
   "metadata": {},
   "source": [
    "### **Quiz**: \n",
    "\n",
    "Using the following dataset\n",
    "\n",
    "`root://eospublic.cern.ch//eos/root-eos/HiggsTauTauReduced/DYJetsToLL.root`\n",
    "\n",
    "compute the b-tagging weights using formula [1]. The b-tagging SF (`deepJet_comb`) can be obtained from the file `btagging.json.gz`. Its inputs are:\n",
    "* systematic (string): \"central\"\n",
    "* working_point (string): \"M\"\n",
    "* hadron flavor (int)\n",
    "* abseta (real) (Range:  [0.0, 2.5))\n",
    "* pt (real)"
   ]
  },
  {
   "cell_type": "code",
   "execution_count": null,
   "id": "fcc2c975-6183-479d-9f7d-6b5230bc1a42",
   "metadata": {},
   "outputs": [],
   "source": []
  }
 ],
 "metadata": {
  "kernelspec": {
   "display_name": "Python 3 (ipykernel)",
   "language": "python",
   "name": "python3"
  },
  "language_info": {
   "codemirror_mode": {
    "name": "ipython",
    "version": 3
   },
   "file_extension": ".py",
   "mimetype": "text/x-python",
   "name": "python",
   "nbconvert_exporter": "python",
   "pygments_lexer": "ipython3",
   "version": "3.8.16"
  }
 },
 "nbformat": 4,
 "nbformat_minor": 5
}
