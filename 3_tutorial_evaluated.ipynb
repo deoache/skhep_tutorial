{
 "cells": [
  {
   "cell_type": "markdown",
   "id": "ee357489-eb21-40b3-a43d-de812960a3d3",
   "metadata": {
    "tags": []
   },
   "source": [
    "based on:\n",
    "\n",
    "https://cms-opendata-workshop.github.io/workshop2021-lesson-introtrigger/01-introduction/index.html\n",
    "\n",
    "https://twiki.cern.ch/twiki/bin/viewauth/CMS/SWGuideCMSDataAnalysisSchoolCERN2023HWWLongExercise"
   ]
  },
  {
   "cell_type": "code",
   "execution_count": 1,
   "id": "542decd8-a34a-4d58-bfc8-e52beb2d7aa3",
   "metadata": {
    "tags": []
   },
   "outputs": [],
   "source": [
    "import hist\n",
    "import warnings\n",
    "import numpy as np\n",
    "import awkward as ak\n",
    "import matplotlib.pyplot as plt\n",
    "from coffea.nanoevents import NanoEventsFactory, NanoAODSchema\n",
    "\n",
    "warnings.filterwarnings(\"ignore\", message=\"Missing cross-reference index \")\n",
    "\n",
    "fname = \"root://xcache//store/mc/RunIISummer20UL17NanoAODv2/TTToSemiLeptonic_TuneCP5_13TeV-powheg-pythia8/NANOAODSIM/106X_mc2017_realistic_v8-v1/120000/2A2F4EC9-F9BB-DF43-B08D-525B5389937E.root\"\n",
    "events = NanoEventsFactory.from_root(fname, schemaclass=NanoAODSchema).events()"
   ]
  },
  {
   "cell_type": "markdown",
   "id": "a36bdb9b-6200-4b69-8692-8df158f494a7",
   "metadata": {},
   "source": [
    "### **Triggers**\n",
    "\n",
    "Collisions at the LHC happen at a rate close to 40 million per second (40 MHz). Once each collision is sensed by the different subdetectors, the amount of information they generate for each one of them corresponds to about what you can fit in a 1 MB file. If we were to record every single collision, it is said (you can do the math) that one can probably fill out all the available disk space in the world in a few days!\n",
    "\n",
    "Fortunately, as you know, not all collisions that happen at the LHC are interesting, so we do not have to record every single one of them. We want to keep the interesting ones and, most importantly, do not miss the discovery-quality ones. In order to achieve that we need a Trigger.\n",
    "\n",
    "Deciding on which events to record is the main purpose of the trigger system. It is like deciding which events to record by taking a quick picture of it and, even though a bit blurry, decide whether it is interesting to keep or not for a future, more thorough inspection.\n",
    "\n",
    "There are hundreds of different triggers in CMS. Each one of them is designed to pick certain types of events, with different intensities and topologies. For instance the `IsoMu27` trigger, will select events with at least one muon with 27 GeV of transverse momentum.\n",
    "\n",
    "In datasets we have flags for the different trigger bits, basically events that do not pass the trigger are weighted 0, those that pass are weighted 1"
   ]
  },
  {
   "cell_type": "code",
   "execution_count": 2,
   "id": "35a40f95-8e65-496f-b8c8-14732f39d2cf",
   "metadata": {
    "tags": []
   },
   "outputs": [
    {
     "data": {
      "text/plain": [
       "<Array [False, False, False, ... False, True] type='1280000 * bool[parameters={\"...'>"
      ]
     },
     "execution_count": 2,
     "metadata": {},
     "output_type": "execute_result"
    }
   ],
   "source": [
    "# analysis trigger\n",
    "trigger = \"IsoMu27\"\n",
    "\n",
    "# access high level trigger mask\n",
    "trigger_mask = events.HLT[trigger]\n",
    "trigger_mask"
   ]
  },
  {
   "cell_type": "markdown",
   "id": "f7096f4d-5d3f-459c-a232-9a13a81315e6",
   "metadata": {},
   "source": [
    "### **MET filters**\n",
    "\n",
    "Similar to the trigger flag, there is a flag that tells whether the event passes a series of filters devised by the JetMET POG to filter anomalous MET events (MC version)"
   ]
  },
  {
   "cell_type": "code",
   "execution_count": 3,
   "id": "e3808df7-2c3f-4b10-9caf-ac8a86e225a1",
   "metadata": {
    "tags": []
   },
   "outputs": [
    {
     "data": {
      "text/plain": [
       "<Array [True, True, True, ... True, True, True] type='1280000 * bool'>"
      ]
     },
     "execution_count": 3,
     "metadata": {},
     "output_type": "execute_result"
    }
   ],
   "source": [
    "met_filters = [\n",
    "    \"goodVertices\",\n",
    "    \"globalSuperTightHalo2016Filter\",\n",
    "    \"HBHENoiseFilter\",\n",
    "    \"HBHENoiseIsoFilter\",\n",
    "    \"EcalDeadCellTriggerPrimitiveFilter\",\n",
    "    \"BadPFMuonFilter\",\n",
    "    \"BadPFMuonDzFilter\",\n",
    "    \"eeBadScFilter\",\n",
    "    \"ecalBadCalibFilter\"\n",
    "]\n",
    "\n",
    "met_filters_mask = np.ones(len(events), dtype=\"bool\")\n",
    "for mf in met_filters:\n",
    "    if mf in events.Flag.fields:\n",
    "        met_filters_mask = met_filters_mask & events.Flag[mf]\n",
    "        \n",
    "met_filters_mask"
   ]
  },
  {
   "cell_type": "markdown",
   "id": "f0c879e2-9ac0-43d4-8d5f-20565b2adbb1",
   "metadata": {},
   "source": [
    "**manipulating selections**\n",
    "\n",
    "Coffea provide the `PackedSelection` class that can store several boolean arrays in a memory-efficient mannner\n",
    "and evaluate arbitrary combinations of boolean requirements in an CPU-efficient way (supported inputs are 1D numpy or awkward arrays). \n",
    "\n",
    "We can add selections (boolean masks) using the `add()` method:"
   ]
  },
  {
   "cell_type": "code",
   "execution_count": 4,
   "id": "60fd366b-fa91-4c01-aa22-03b609507a85",
   "metadata": {
    "tags": []
   },
   "outputs": [],
   "source": [
    "from coffea.analysis_tools import PackedSelection\n",
    "\n",
    "# create an instance of PackedSelections\n",
    "selections = PackedSelection()\n",
    "\n",
    "# add trigger mask\n",
    "selections.add(\"trigger\", trigger_mask)\n",
    "\n",
    "# add met filters mask\n",
    "selections.add(\"metfilters\", met_filters_mask)\n",
    "\n",
    "# add leading muon selections\n",
    "selections.add(\"leading_muon_pt\", ak.firsts(events.Muon).pt > 50)"
   ]
  },
  {
   "cell_type": "markdown",
   "id": "93a160c4-6092-4583-8c12-9cd67f09c9a8",
   "metadata": {},
   "source": [
    "Then, we can access the combination (logic AND operation) of some masks using the `all()` method"
   ]
  },
  {
   "cell_type": "code",
   "execution_count": 5,
   "id": "915aa401-6fb8-4e02-8430-d1c47006855c",
   "metadata": {
    "tags": []
   },
   "outputs": [
    {
     "data": {
      "text/plain": [
       "array([False, False, False, ..., False, False,  True])"
      ]
     },
     "execution_count": 5,
     "metadata": {},
     "output_type": "execute_result"
    }
   ],
   "source": [
    "# combining the 'trigger' and 'metfilters'\n",
    "selections.all(\"trigger\", \"metfilters\")"
   ]
  },
  {
   "cell_type": "code",
   "execution_count": 6,
   "id": "f83371bd-cb4f-46d4-aa2e-2ebe369be789",
   "metadata": {
    "tags": []
   },
   "outputs": [
    {
     "data": {
      "text/plain": [
       "array([False, False, False, ..., False, False,  True])"
      ]
     },
     "execution_count": 6,
     "metadata": {},
     "output_type": "execute_result"
    }
   ],
   "source": [
    "# combining all selections\n",
    "selections.all(\"trigger\", \"metfilters\", \"leading_muon_pt\")"
   ]
  },
  {
   "cell_type": "markdown",
   "id": "23cf072a-58e4-47bd-b28a-d159761eace1",
   "metadata": {
    "tags": []
   },
   "source": [
    "# **Weights and corrections**\n",
    "\n",
    "MC and data have several weights. MC weights are needed first and foremost to normalize the MC sample to the luminosity of the data. Also, event weights are computed to take into account the different scale factors that we use to improve the description of the data.\n",
    "\n",
    "Scale factors (SF) are corrections applied to MC samples to fix imperfections in the simulation. The origin of the mis-modelling could be from the hard scattering (theory uncertainty), or from the simulation of the response of particles with the detector (Geant4), or due to the conditions evolution in time in data (the MC has only one set of conditions), such as noise and radiation damage effects on the detectors"
   ]
  },
  {
   "cell_type": "markdown",
   "id": "13760ff0-656c-4290-a041-97d4d80d3a58",
   "metadata": {},
   "source": [
    "We can access certain correction weights directly from the NanoAOD:\n",
    "\n",
    "**Generation weights**\n",
    "\n",
    "In the generation of MC samples, the number of events may be underestimated or overestimated. Hence, these samples come with a weight (known as *genWeight*) that allows us to rectify this underestimation/overestimation."
   ]
  },
  {
   "cell_type": "code",
   "execution_count": 7,
   "id": "8f7bc303-85bb-4cb3-902d-fb0d4867999f",
   "metadata": {},
   "outputs": [
    {
     "data": {
      "text/plain": [
       "<Array [303, 303, 303, 303, ... 303, 303, 303] type='1280000 * float32[parameter...'>"
      ]
     },
     "execution_count": 7,
     "metadata": {},
     "output_type": "execute_result"
    }
   ],
   "source": [
    "gen_weight = events.genWeight\n",
    "gen_weight"
   ]
  },
  {
   "cell_type": "markdown",
   "id": "9fddc670-12c3-4226-b23c-6883c1e52825",
   "metadata": {},
   "source": [
    "**L1Prefiring weights**\n",
    "\n",
    "In 2016 and 2017, the gradual timing shift of ECAL was not properly propagated to L1 trigger primitives (TP) resulting in a significant fraction of high $\\eta$ TP being mistakenly associated to the previous bunch crossing. Since Level 1 rules forbid two consecutive bunch crossings to fire, an unpleasant consequence of this (in addition to not finding the TP in the bx 0) is that events can self veto if a significant amount of ECAL energy is found in the region of 2.<|$\\eta$|<3. This effect is not described by the simulations."
   ]
  },
  {
   "cell_type": "code",
   "execution_count": 8,
   "id": "65b91f56-fdaf-4bdf-ac94-d38cf90921ac",
   "metadata": {
    "tags": []
   },
   "outputs": [
    {
     "data": {
      "text/plain": [
       "<Array [0.976, 1, 0.992, ... 0.976, 0.941, 1] type='1280000 * float32[parameters...'>"
      ]
     },
     "execution_count": 8,
     "metadata": {},
     "output_type": "execute_result"
    }
   ],
   "source": [
    "l1prefiring_weight = events.L1PreFiringWeight.Nom\n",
    "l1prefiring_weight"
   ]
  },
  {
   "cell_type": "markdown",
   "id": "6747e20f-d903-43d3-8e8d-609b52c38cb0",
   "metadata": {},
   "source": [
    "### **Correctionlib**\n",
    "\n",
    "Other corrections need to be computed using external tools. [Correctionlib](https://github.com/cms-nanoAOD/correctionlib) provide a well-structured JSON data format for a wide variety of ad-hoc correction factors encountered in a typical HEP analysis and a companion evaluation tool suitable for use in C++ and python programs. Here we restrict our definition of correction factors to a class of functions with scalar inputs that produce a scalar output.\n",
    "\n",
    "In python, the function signature is:\n",
    "\n",
    "```\n",
    "def f(*args: str | int | float) -> float:\n",
    "    return ...\n",
    "```\n",
    "\n",
    "All available corrections can be found [here](https://cms-nanoaod-integration.web.cern.ch/commonJSONSFs/)"
   ]
  },
  {
   "cell_type": "markdown",
   "id": "96440963-6076-4828-b429-f9f027fc3d9d",
   "metadata": {},
   "source": [
    "**Pileup weights**\n",
    "\n",
    "This weight is needed to equalize the Pile-Up profile in MC to that in Data. You need to understand that most of the time the simulation is done before, or at least partly before, the data taking, thus the PU profile in the MC is a guess of what will happen with data. This weight is the ratio of the PU profile in data to that guess that was used when producing the MC.\n",
    "\n",
    "You can find the description of the pile up function correction [here](https://cms-nanoaod-integration.web.cern.ch/commonJSONSFs/summaries/LUM_2017_UL_puWeights.html) "
   ]
  },
  {
   "cell_type": "code",
   "execution_count": 9,
   "id": "99efb0c1-903d-407f-a84d-00b5d497b69e",
   "metadata": {
    "tags": []
   },
   "outputs": [],
   "source": [
    "import correctionlib\n",
    "\n",
    "# The SF themselves can be found in the central POG repository\n",
    "pog_path = \"/cvmfs/cms.cern.ch/rsync/cms-nanoAOD/jsonpog-integration\"\n",
    "\n",
    "# path to the pileup correction set (2017 UL MC)\n",
    "pileup_corrections_path = f\"{pog_path}/POG/LUM/2017_UL/puWeights.json.gz\"\n",
    "\n",
    "# define correction set\n",
    "cset = correctionlib.CorrectionSet.from_file(pileup_corrections_path)\n",
    "\n",
    "# get pileup weights\n",
    "pileup_weights = cset[\"Collisions17_UltraLegacy_goldenJSON\"].evaluate(events.Pileup.nPU, \"nominal\")"
   ]
  },
  {
   "cell_type": "markdown",
   "id": "177e707d-dd9f-47fe-9189-f05dde3a5024",
   "metadata": {},
   "source": [
    "**Manipulating weights**\n",
    "\n",
    "Similar to `PackedSelection`, coffea provide the `Weights` container that keeps track of correction factors and systematic effects that can be encoded as multiplicative modifiers to the event weight (All weights are stored in vector form)."
   ]
  },
  {
   "cell_type": "code",
   "execution_count": 10,
   "id": "7f36407c-bbc3-4835-8db9-cda4077ed0d7",
   "metadata": {
    "tags": []
   },
   "outputs": [],
   "source": [
    "from coffea.analysis_tools import Weights\n",
    "\n",
    "# create an instance of the Weights container\n",
    "weights_container = Weights(size=len(events), storeIndividual=True)\n",
    "\n",
    "# add nominal weights\n",
    "weights_container.add(\"genweight\", gen_weight)\n",
    "weights_container.add(\"l1prefiring\", l1prefiring_weight)\n",
    "weights_container.add(\"pileup\", pileup_weights)"
   ]
  },
  {
   "cell_type": "markdown",
   "id": "4ec0b803-90a0-4a92-930a-8c90c5cdbc4d",
   "metadata": {},
   "source": [
    "Then, we can access the combination (multiplication) of all weights using the `weight()` method"
   ]
  },
  {
   "cell_type": "code",
   "execution_count": 11,
   "id": "dc030fb3-6079-4d84-8978-37ab43a6147a",
   "metadata": {
    "tags": []
   },
   "outputs": [
    {
     "data": {
      "text/plain": [
       "array([284.36289951, 278.48991972, 288.97276102, ..., 287.80464001,\n",
       "       293.76914437, 305.73140573])"
      ]
     },
     "execution_count": 11,
     "metadata": {},
     "output_type": "execute_result"
    }
   ],
   "source": [
    "weights_container.weight()"
   ]
  },
  {
   "cell_type": "markdown",
   "id": "0507ed49-41ea-4679-86f9-e23a44b6f8e7",
   "metadata": {},
   "source": [
    "or a some weight(s) using the `partial_weight()` method"
   ]
  },
  {
   "cell_type": "code",
   "execution_count": 12,
   "id": "afc31a39-5d36-4546-a371-32a12d93a5b8",
   "metadata": {
    "tags": []
   },
   "outputs": [
    {
     "data": {
      "text/plain": [
       "array([0.93738388, 0.91802398, 0.95257999, ..., 0.94872935, 0.96839095,\n",
       "       1.00782377])"
      ]
     },
     "execution_count": 12,
     "metadata": {},
     "output_type": "execute_result"
    }
   ],
   "source": [
    "weights_container.partial_weight(include=[\"pileup\", \"l1prefiring\"])"
   ]
  },
  {
   "cell_type": "markdown",
   "id": "88f4c254-b41e-46dc-841f-79ec14d36540",
   "metadata": {},
   "source": [
    "We can access to a statistical summary of the weights using the `weightStatistics` attribute"
   ]
  },
  {
   "cell_type": "code",
   "execution_count": 13,
   "id": "a784cde9-cef5-489a-b033-55a08be5e023",
   "metadata": {
    "tags": []
   },
   "outputs": [
    {
     "data": {
      "text/plain": [
       "{'genweight': WeightStatistics(sumw=385119712.0, sumw2=117793308672.0, minw=-303.3580017089844, maxw=303.3580017089844, n=1280000),\n",
       " 'l1prefiring': WeightStatistics(sumw=1240563.25, sumw2=1210608.5, minw=0.05073864385485649, maxw=1.0, n=1280000),\n",
       " 'pileup': WeightStatistics(sumw=1346953.8990572663, sumw2=7886812.395507115, minw=0.5379188426448102, maxw=159.55129944394525, n=1280000)}"
      ]
     },
     "execution_count": 13,
     "metadata": {},
     "output_type": "execute_result"
    }
   ],
   "source": [
    "weights_container.weightStatistics"
   ]
  },
  {
   "cell_type": "markdown",
   "id": "068d1e44-b876-4ed9-9bc0-38edea02c602",
   "metadata": {},
   "source": [
    "### **Normalize events to luminosity/cross section**\n",
    "\n",
    "The number of expected events is given by\n",
    "\n",
    "$$N = L \\times \\sigma \\times \\epsilon,$$\n",
    "\n",
    "where $L$ is the integrated luminosity, $\\sigma$ is the cross section of the process, and $\\epsilon$ is the selection efficiency $\\frac{N_{after}}{N_{before}}$. \n",
    "\n",
    "Notice that the addition of weights (scale factors) modify the number of events $N_{after}$ and $N_{before}$. These can be compute as the sum of the weights vector before and after selections:"
   ]
  },
  {
   "cell_type": "code",
   "execution_count": 14,
   "id": "a5480c0b-54e3-4773-8176-e1389f0ea7c7",
   "metadata": {
    "tags": []
   },
   "outputs": [
    {
     "data": {
      "text/plain": [
       "1730845.2092653676"
      ]
     },
     "execution_count": 14,
     "metadata": {},
     "output_type": "execute_result"
    }
   ],
   "source": [
    "# compute initial number of events (before selections)\n",
    "sumw_before = ak.sum(weights_container.weight())\n",
    "\n",
    "# define region selection\n",
    "region_selection = selections.all(\"trigger\", \"metfilters\", \"leading_muon_pt\")\n",
    "\n",
    "# get region weight vector\n",
    "region_weights = weights_container.weight()[region_selection]\n",
    "\n",
    "# compute final number of events (after selections)\n",
    "sumw_after = ak.sum(region_weights)\n",
    "\n",
    "# compute selection efficiency\n",
    "eff = sumw_after / sumw_before\n",
    "\n",
    "# compute expected number of events\n",
    "L = 41477.88\n",
    "xsec = 365.34\n",
    "L * xsec * eff"
   ]
  },
  {
   "cell_type": "markdown",
   "id": "59d13a7c-cdab-459b-8e35-96ea17a57287",
   "metadata": {
    "tags": []
   },
   "source": [
    "This normalization should also be applied to the histograms"
   ]
  },
  {
   "cell_type": "code",
   "execution_count": 15,
   "id": "6502a7ab-e448-4c9f-bf5f-00a75741770e",
   "metadata": {
    "tags": []
   },
   "outputs": [
    {
     "data": {
      "image/png": "[encoded data removed]",
      "text/plain": [
       "<Figure size 640x480 with 1 Axes>"
      ]
     },
     "metadata": {},
     "output_type": "display_data"
    }
   ],
   "source": [
    "# histogram definition\n",
    "muon_pt_axis = hist.axis.Regular(\n",
    "    bins=40, \n",
    "    start=50, \n",
    "    stop=500, \n",
    "    name=\"muon_pt\", \n",
    "    label=\"Leading Muon $p_T$ [GeV]\"\n",
    ")\n",
    "muon_pt_histogram = hist.Hist(\n",
    "    muon_pt_axis, # muon pt axis\n",
    "    hist.storage.Weight(), # weight storage\n",
    ")\n",
    "# histogram filling\n",
    "muon_pt_histogram.fill(\n",
    "    muon_pt=ak.firsts(events.Muon.pt)[region_selection],\n",
    "    weight=region_weights,\n",
    ")\n",
    "# normalize to luminosity/cross section\n",
    "lumi_weight = (L * xsec) / sumw_before\n",
    "muon_pt_histogram = muon_pt_histogram * lumi_weight\n",
    "muon_pt_histogram.plot1d();"
   ]
  },
  {
   "cell_type": "code",
   "execution_count": 16,
   "id": "19f040d0-161f-4b72-8918-c9f154a73aaa",
   "metadata": {
    "tags": []
   },
   "outputs": [
    {
     "data": {
      "text/plain": [
       "1730678.8045717229"
      ]
     },
     "execution_count": 16,
     "metadata": {},
     "output_type": "execute_result"
    }
   ],
   "source": [
    "# total number of events in histogram\n",
    "ak.sum(muon_pt_histogram.counts())"
   ]
  },
  {
   "cell_type": "markdown",
   "id": "ef095a30-67a4-4a5d-9abc-23052c1b567c",
   "metadata": {},
   "source": [
    "### **Quiz**: \n",
    "\n",
    "Using the following dataset\n",
    "\n",
    "`root://eospublic.cern.ch//eos/root-eos/HiggsTauTauReduced/DYJetsToLL.root`\n",
    "\n",
    "* Compute the muon ID (`NUM_TightID_DEN_TrackerMuons`), Iso (`NUM_TightRelIso_DEN_TightIDandIPCut`) and TriggerIso (`NUM_IsoMu27_DEN_CutBasedIdTight_and_PFIsoTight`) scale factors. Read the SF from `muon_Z.json.gz'`.\n",
    "\n",
    "\n",
    "    **Hint 1** Corrections only apply to 1D arrays. Therefore, you must flatten (use `ak.flatten()` and `ak.num()`) the arrays to calculate the SF and then unflatten them to the original shape (use `ak.unflatten()`)\n",
    "    \n",
    "    **Hint 2** Note that in some corrections the variables are limited to a defined range (use `np.clip()` so values outside the interval are clipped to the interval edges). \n",
    "    \n",
    "    \n",
    "    **Hint 3:** The event scale factor is obtained by multiplying the scale factors of each object in the event (use `ak.prod()`).\n",
    "    \n",
    "* Compute the number of weighted events before any selection\n",
    "* Select muons:\n",
    "    * Muons with $p_T>35$ GeV\n",
    "    * Muons with $|\\eta|<2.4$\n",
    "    * Muons identified with a tight working point (`tightId`)\n",
    "    * Muons with tight relative isolation (`pfRelIso03_all < 0.15`)\n",
    "* Select events:\n",
    "    * Events triggered by `IsoMu24`\n",
    "    * Events with missing energy (`MET > 50` GeV)\n",
    "* Filter events and compute the number of weighted events after selection\n",
    "* Compute the expected number of events ($L=41477.88$ and $\\sigma=3503.7$)\n",
    "* Define and plot histograms for leading muon's $p_T$, $\\eta$ and $\\phi$ (normalized to lumi/cross section)"
   ]
  },
  {
   "cell_type": "code",
   "execution_count": 17,
   "id": "7f0d59cc-f2f0-4739-96c8-8cd40023b72e",
   "metadata": {
    "tags": []
   },
   "outputs": [],
   "source": [
    "# load events\n",
    "fname = \"root://eospublic.cern.ch//eos/root-eos/HiggsTauTauReduced/DYJetsToLL.root\"\n",
    "events = NanoEventsFactory.from_root(fname, schemaclass=NanoAODSchema).events()\n",
    "\n",
    "# select muons\n",
    "muons = events.Muon\n",
    "\n",
    "# get correction set\n",
    "cset = correctionlib.CorrectionSet.from_file(\"muon_Z.json.gz\")"
   ]
  },
  {
   "cell_type": "code",
   "execution_count": 18,
   "id": "54c706d2-2ada-4618-ac01-3dfb99298563",
   "metadata": {
    "tags": []
   },
   "outputs": [],
   "source": [
    "def print_correction(cset, name):\n",
    "    inputs = cset[name].inputs\n",
    "    output = cset[name].output\n",
    "    print(\"Inputs:\")\n",
    "    for input_variable in inputs:\n",
    "        print(f\"{input_variable.name} (type: {input_variable.type}): {input_variable.description}\\n\")\n",
    "    print(\"Output:\")\n",
    "    print(f\"{output.name} (type: {output.type}): {output.description}\\n\")"
   ]
  },
  {
   "cell_type": "markdown",
   "id": "252fff17-2999-4a6d-abf3-6a0ae03f710b",
   "metadata": {},
   "source": [
    "#### ID SF"
   ]
  },
  {
   "cell_type": "code",
   "execution_count": 19,
   "id": "284bf7e1-41c5-47ce-a78c-0381994c1d06",
   "metadata": {
    "tags": []
   },
   "outputs": [
    {
     "name": "stdout",
     "output_type": "stream",
     "text": [
      "Inputs:\n",
      "year (type: string): year/scenario: example 2016preVFP, 2017 etc\n",
      "\n",
      "abseta (type: real): Probe abseta\n",
      "\n",
      "pt (type: real): Probe pt\n",
      "\n",
      "ValType (type: string): sf or syst (currently 'sf' is nominal, and 'systup' and 'systdown' are up/down variations with total stat+syst uncertainties. Individual systs are also available (in these cases syst only, not sf +/- syst)\n",
      "\n",
      "Output:\n",
      "weight (type: real): Output scale factor (nominal) or uncertainty\n",
      "\n"
     ]
    }
   ],
   "source": [
    "print_correction(cset, \"NUM_TightID_DEN_TrackerMuons\")"
   ]
  },
  {
   "cell_type": "code",
   "execution_count": 20,
   "id": "ea9d0b74-724b-4c36-b222-5fff3f6e4658",
   "metadata": {
    "tags": []
   },
   "outputs": [
    {
     "data": {
      "text/plain": [
       "<Array [1, 0.99, 0.991, 1, ... 1, 0.989, 1, 1] type='3045887 * float64'>"
      ]
     },
     "execution_count": 20,
     "metadata": {},
     "output_type": "execute_result"
    }
   ],
   "source": [
    "# flatten muons \n",
    "m, n = ak.flatten(muons), ak.num(muons)\n",
    "\n",
    "# get mask for 'in-limits' muons\n",
    "muon_pt_mask = m.pt > 15.\n",
    "muon_eta_mask = np.abs(m.eta) < 2.4\n",
    "muon_mask = muon_pt_mask & muon_eta_mask\n",
    "\n",
    "# get 'in-limits' muons\n",
    "in_limit_muons = m.mask[muon_mask]\n",
    "\n",
    "# get pt and eta\n",
    "# fill Nones with some 'in-limit' value\n",
    "muon_pt = ak.fill_none(in_limit_muons.pt, 15.)\n",
    "muon_eta = ak.fill_none(np.abs(in_limit_muons.eta), 0.)\n",
    "\n",
    "# compute scale factors\n",
    "id_sf = cset[\"NUM_TightID_DEN_TrackerMuons\"].evaluate(\"2017_UL\", muon_eta, muon_pt, \"sf\")\n",
    "\n",
    "# if muon in 'in-limits' muons, then take the computed SF, otherwise assign 1\n",
    "id_sf = ak.where(\n",
    "    muon_mask,\n",
    "    id_sf,\n",
    "    ak.ones_like(id_sf)\n",
    ")\n",
    "\n",
    "# unflatten scale factors to original shape \n",
    "id_sf = ak.unflatten(id_sf, n)\n",
    "\n",
    "# take the product of the scale factors along axis 1\n",
    "id_sf = ak.prod(id_sf, axis=1)\n",
    "id_sf"
   ]
  },
  {
   "cell_type": "markdown",
   "id": "a7fe4bae-ae83-4cdb-a21f-310669ed8548",
   "metadata": {},
   "source": [
    "#### Iso SF"
   ]
  },
  {
   "cell_type": "code",
   "execution_count": 21,
   "id": "1931a9c9-7470-499c-bfa3-043e8b74d75c",
   "metadata": {
    "tags": []
   },
   "outputs": [
    {
     "name": "stdout",
     "output_type": "stream",
     "text": [
      "Inputs:\n",
      "year (type: string): year/scenario: example 2016preVFP, 2017 etc\n",
      "\n",
      "abseta (type: real): Probe abseta\n",
      "\n",
      "pt (type: real): Probe pt\n",
      "\n",
      "ValType (type: string): sf or syst (currently 'sf' is nominal, and 'systup' and 'systdown' are up/down variations with total stat+syst uncertainties. Individual systs are also available (in these cases syst only, not sf +/- syst)\n",
      "\n",
      "Output:\n",
      "weight (type: real): Output scale factor (nominal) or uncertainty\n",
      "\n"
     ]
    }
   ],
   "source": [
    "print_correction(cset, \"NUM_TightRelIso_DEN_TightIDandIPCut\")"
   ]
  },
  {
   "cell_type": "code",
   "execution_count": 22,
   "id": "12447e80-da73-4508-a7d6-85a5179d6444",
   "metadata": {
    "tags": []
   },
   "outputs": [
    {
     "data": {
      "text/plain": [
       "<Array [1, 1, 1, 1, 1.02, ... 1, 0.997, 1, 1] type='3045887 * float64'>"
      ]
     },
     "execution_count": 22,
     "metadata": {},
     "output_type": "execute_result"
    }
   ],
   "source": [
    "# flatten muons \n",
    "m, n = ak.flatten(muons), ak.num(muons)\n",
    "\n",
    "# get mask for 'in-limits' muons\n",
    "muon_pt_mask = m.pt > 15.\n",
    "muon_eta_mask = np.abs(m.eta) < 2.4\n",
    "muon_mask = muon_pt_mask & muon_eta_mask\n",
    "\n",
    "# get 'in-limits' muons\n",
    "in_limit_muons = m.mask[muon_mask]\n",
    "\n",
    "# get pt and eta\n",
    "# fill Nones with some 'in-limit' value\n",
    "muon_pt = ak.fill_none(in_limit_muons.pt, 15.)\n",
    "muon_eta = ak.fill_none(np.abs(in_limit_muons.eta), 0.)\n",
    "\n",
    "# compute scale factors\n",
    "iso_sf = cset[\"NUM_TightRelIso_DEN_TightIDandIPCut\"].evaluate(\"2017_UL\", muon_eta, muon_pt, \"sf\")\n",
    "\n",
    "# if muon in 'in-limits' muons, then take the computed SF, otherwise assign 1\n",
    "iso_sf = ak.where(\n",
    "    muon_mask,\n",
    "    iso_sf,\n",
    "    ak.ones_like(iso_sf)\n",
    ")\n",
    "# unflatten scale factors to original shape and take the product of the scale factors along axis 1\n",
    "iso_sf = ak.prod(ak.unflatten(iso_sf, n), axis=1)\n",
    "iso_sf"
   ]
  },
  {
   "cell_type": "markdown",
   "id": "e575a47f-7934-4aa3-a52f-8ea7d17f82ce",
   "metadata": {},
   "source": [
    "#### TriggerIso SF"
   ]
  },
  {
   "cell_type": "code",
   "execution_count": 23,
   "id": "4c23da3c-acf3-4161-bc35-0d439aac7c66",
   "metadata": {
    "tags": []
   },
   "outputs": [
    {
     "name": "stdout",
     "output_type": "stream",
     "text": [
      "Inputs:\n",
      "year (type: string): year/scenario: example 2016preVFP, 2017 etc\n",
      "\n",
      "abseta (type: real): Probe abseta\n",
      "\n",
      "pt (type: real): Probe pt\n",
      "\n",
      "ValType (type: string): sf or syst (currently 'sf' is nominal, and 'systup' and 'systdown' are up/down variations with total stat+syst uncertainties. Individual systs are also available (in these cases syst only, not sf +/- syst)\n",
      "\n",
      "Output:\n",
      "weight (type: real): Output scale factor (nominal) or uncertainty\n",
      "\n"
     ]
    }
   ],
   "source": [
    "print_correction(cset, \"NUM_IsoMu27_DEN_CutBasedIdTight_and_PFIsoTight\")"
   ]
  },
  {
   "cell_type": "code",
   "execution_count": 24,
   "id": "7bea2427-9d6c-4152-8504-e9253987e8ee",
   "metadata": {
    "tags": []
   },
   "outputs": [
    {
     "data": {
      "text/plain": [
       "<Array [1, 1, 1.02, 1, 1, 1, ... 1, 1, 1, 1, 1] type='3045887 * float64'>"
      ]
     },
     "execution_count": 24,
     "metadata": {},
     "output_type": "execute_result"
    }
   ],
   "source": [
    "# flatten muons \n",
    "m, n = ak.flatten(muons), ak.num(muons)\n",
    "\n",
    "# get mask for 'in-limits' muons\n",
    "muon_pt_mask = m.pt > 29.\n",
    "muon_eta_mask = np.abs(m.eta) < 2.4\n",
    "muon_mask = muon_pt_mask & muon_eta_mask\n",
    "\n",
    "# get 'in-limits' muons\n",
    "in_limit_muons = m.mask[muon_mask]\n",
    "\n",
    "# get pt and eta\n",
    "# fill Nones with some 'in-limit' value\n",
    "muon_pt = ak.fill_none(in_limit_muons.pt, 29.)\n",
    "muon_eta = ak.fill_none(np.abs(in_limit_muons.eta), 0.)\n",
    "\n",
    "# compute scale factors\n",
    "triggeriso_sf = cset[\"NUM_IsoMu27_DEN_CutBasedIdTight_and_PFIsoTight\"].evaluate(\"2017_UL\", muon_eta, muon_pt, \"sf\")\n",
    "\n",
    "# if muon in 'in-limits' muons, then take the computed SF, otherwise assign 1\n",
    "triggeriso_sf = ak.where(\n",
    "    muon_mask,\n",
    "    triggeriso_sf,\n",
    "    ak.ones_like(triggeriso_sf)\n",
    ")\n",
    "# unflatten scale factors to original shape and take the product of the scale factors along axis 1\n",
    "triggeriso_sf = ak.prod(ak.unflatten(triggeriso_sf, n), axis=1)\n",
    "triggeriso_sf"
   ]
  },
  {
   "cell_type": "markdown",
   "id": "b9ef6391-743c-43cd-af5b-926538bb1463",
   "metadata": {},
   "source": [
    "### Compute the number of weighted events before any selection"
   ]
  },
  {
   "cell_type": "code",
   "execution_count": 25,
   "id": "1fb1a043-bea8-4f9a-a8e7-ff78e2b09024",
   "metadata": {
    "tags": []
   },
   "outputs": [
    {
     "data": {
      "text/plain": [
       "3019759.5278414087"
      ]
     },
     "execution_count": 25,
     "metadata": {},
     "output_type": "execute_result"
    }
   ],
   "source": [
    "# create an instance of the Weights container\n",
    "weights_container = Weights(size=len(events), storeIndividual=True)\n",
    "\n",
    "# add nominal weights\n",
    "weights_container.add(\"id_sf\", id_sf)\n",
    "weights_container.add(\"iso_sf\", iso_sf)\n",
    "weights_container.add(\"triggeriso_sf\", triggeriso_sf)\n",
    "\n",
    "# sum of weights\n",
    "sumw = ak.sum(weights_container.weight())\n",
    "sumw"
   ]
  },
  {
   "cell_type": "markdown",
   "id": "354d9b71-6f26-44bd-8852-82fe81d9203f",
   "metadata": {},
   "source": [
    "### Select muons"
   ]
  },
  {
   "cell_type": "code",
   "execution_count": 26,
   "id": "ffa49196-a664-4f6b-88f4-f032e7d751fd",
   "metadata": {
    "tags": []
   },
   "outputs": [],
   "source": [
    "good_muons = (\n",
    "    (events.Muon.pt > 35)\n",
    "    & (np.abs(events.Muon.eta) < 2.4)\n",
    "    & (events.Muon.tightId)\n",
    "    & (events.Muon.pfRelIso03_all < 0.15)\n",
    ")\n",
    "muons = events.Muon[good_muons]"
   ]
  },
  {
   "cell_type": "markdown",
   "id": "d46697f6-b863-42c1-bbc6-b1a94d096b34",
   "metadata": {},
   "source": [
    "### Select events"
   ]
  },
  {
   "cell_type": "code",
   "execution_count": 27,
   "id": "a32250ed-2809-493c-bd21-36f7e37815e4",
   "metadata": {
    "tags": []
   },
   "outputs": [],
   "source": [
    "# create an instance of PackedSelections\n",
    "selections = PackedSelection()\n",
    "\n",
    "# add trigger mask\n",
    "selections.add(\"trigger\", events.HLT[\"IsoMu24\"]) # we should use IsoMu27 but not present in MC sample\n",
    "\n",
    "# add met filters mask\n",
    "selections.add(\"met\", events.MET.pt > 50)"
   ]
  },
  {
   "cell_type": "markdown",
   "id": "0e3658bd-eb95-40a7-bb83-5b631d0e20bf",
   "metadata": {},
   "source": [
    "### Filter events and compute the number of weighted events after selection"
   ]
  },
  {
   "cell_type": "code",
   "execution_count": 28,
   "id": "cbc1385a-e05b-41fa-8a29-0ed0a658fd8a",
   "metadata": {
    "tags": []
   },
   "outputs": [],
   "source": [
    "# define region mask\n",
    "region = [\"trigger\", \"met\"]\n",
    "region_selection_mask = selections.all(*region) # selections.all(\"trigger\", \"met\")\n",
    "\n",
    "# region weights\n",
    "region_weights = weights_container.weight()[region_selection_mask]\n",
    "\n",
    "# get sumw after selection\n",
    "sumw_after = ak.sum(region_weights)"
   ]
  },
  {
   "cell_type": "markdown",
   "id": "390b6712-6c4e-43b6-8294-5c68af1cfd51",
   "metadata": {},
   "source": [
    "### Compute the expected number of events"
   ]
  },
  {
   "cell_type": "code",
   "execution_count": 29,
   "id": "9d771f35-53ed-40e3-b2ae-2b41e4a16100",
   "metadata": {
    "tags": []
   },
   "outputs": [
    {
     "data": {
      "text/plain": [
       "1567984.0425020284"
      ]
     },
     "execution_count": 29,
     "metadata": {},
     "output_type": "execute_result"
    }
   ],
   "source": [
    "L = 41477.88\n",
    "xs = 3503.7\n",
    "\n",
    "L * xs * (sumw_after / sumw)"
   ]
  },
  {
   "cell_type": "markdown",
   "id": "6860ebc0-dd34-4928-983a-4d4c054f39f0",
   "metadata": {
    "tags": []
   },
   "source": [
    "### Define and plot histograms for leading muon's  $𝑝_T$,  𝜂 and  𝜙 (normalized to lumi/cross section)"
   ]
  },
  {
   "cell_type": "code",
   "execution_count": 30,
   "id": "a48697a3-9d0e-44e4-9996-a49f507c8414",
   "metadata": {},
   "outputs": [],
   "source": [
    "# histogram definition\n",
    "leading_muon_pt_axis = hist.axis.Regular(\n",
    "    bins=40, \n",
    "    start=35, \n",
    "    stop=200, \n",
    "    name=\"muon_pt\", \n",
    "    label=\"Leading Muon $p_T$ [GeV]\"\n",
    ")\n",
    "leading_muon_eta_axis = hist.axis.Regular(\n",
    "    bins=40, \n",
    "    start=-2.4, \n",
    "    stop=2.4, \n",
    "    name=\"muon_eta\", \n",
    "    label=\"Leading Muon $\\eta$\"\n",
    ")\n",
    "leading_muon_phi_axis = hist.axis.Regular(\n",
    "    bins=40, \n",
    "    start=-np.pi, \n",
    "    stop=np.pi, \n",
    "    name=\"muon_phi\", \n",
    "    label=\"Leading Muon $\\phi$\"\n",
    ")\n",
    "leading_muon_histogram = hist.Hist(\n",
    "    leading_muon_pt_axis, \n",
    "    leading_muon_eta_axis, \n",
    "    leading_muon_phi_axis, \n",
    "    hist.storage.Weight(), \n",
    ")"
   ]
  },
  {
   "cell_type": "code",
   "execution_count": 31,
   "id": "92017604-7f50-4afc-ad08-577615b0441b",
   "metadata": {},
   "outputs": [],
   "source": [
    "# variables\n",
    "# fill None values with underflow/overflow bins\n",
    "muon_pt = ak.fill_none(ak.firsts(muons.pt[region_selection_mask]), -1)\n",
    "muon_eta = ak.fill_none(ak.firsts(muons.eta[region_selection_mask]), -10)\n",
    "muon_phi = ak.fill_none(ak.firsts(muons.phi[region_selection_mask]), -10)"
   ]
  },
  {
   "cell_type": "code",
   "execution_count": 32,
   "id": "b19bc2fb-43e2-4554-8793-aa8a8e79f420",
   "metadata": {},
   "outputs": [],
   "source": [
    "# histogram filling\n",
    "leading_muon_histogram.fill(\n",
    "    muon_pt=muon_pt,\n",
    "    muon_eta=muon_eta,\n",
    "    muon_phi=muon_phi,\n",
    "    weight=region_weights,\n",
    ")\n",
    "# normalize to luminosity/cross section\n",
    "lumi_weight = (L * xsec) / sumw\n",
    "leading_muon_histogram = leading_muon_histogram * lumi_weight"
   ]
  },
  {
   "cell_type": "code",
   "execution_count": 33,
   "id": "a61064ec-7040-48f2-8c69-45b15913db6e",
   "metadata": {
    "tags": []
   },
   "outputs": [
    {
     "data": {
      "image/png": "[encoded data removed]",
      "text/plain": [
       "<Figure size 600x500 with 1 Axes>"
      ]
     },
     "metadata": {},
     "output_type": "display_data"
    },
    {
     "data": {
      "image/png": "[encoded data removed]",
      "text/plain": [
       "<Figure size 600x500 with 1 Axes>"
      ]
     },
     "metadata": {},
     "output_type": "display_data"
    },
    {
     "data": {
      "image/png": "[encoded data removed]",
      "text/plain": [
       "<Figure size 600x500 with 1 Axes>"
      ]
     },
     "metadata": {},
     "output_type": "display_data"
    }
   ],
   "source": [
    "# plot variables\n",
    "def plot_cms_histogram(hist_histogram, variable):\n",
    "    import mplhep as hep\n",
    "    hep.style.use(hep.style.CMS)\n",
    "    plt.rcParams.update(\n",
    "        {\n",
    "            \"font.size\": 14,\n",
    "            \"axes.titlesize\": 14,\n",
    "            \"axes.labelsize\": 15,\n",
    "            \"xtick.labelsize\": 10,\n",
    "            \"ytick.labelsize\": 10,\n",
    "            \"lines.markersize\": 4,\n",
    "            \"legend.fontsize\": 10,\n",
    "        }\n",
    "    )\n",
    "    fig, ax = plt.subplots(figsize=(6, 5))\n",
    "    hist_histogram.project(variable).plot1d(ax=ax)\n",
    "    ax.set(ylabel=\"Events\")\n",
    "    hep.cms.lumitext(\"41.47 fb$^{-1}$ (2017, 13 TeV)\", fontsize=9, ax=ax)\n",
    "    hep.cms.text(\"OpenData\", loc=0, ax=ax)\n",
    "    \n",
    "plot_cms_histogram(leading_muon_histogram, \"muon_pt\")\n",
    "plot_cms_histogram(leading_muon_histogram, \"muon_eta\")\n",
    "plot_cms_histogram(leading_muon_histogram, \"muon_phi\")"
   ]
  },
  {
   "cell_type": "code",
   "execution_count": null,
   "id": "c9a32d99-4f6a-4087-880d-db49395fa3ae",
   "metadata": {},
   "outputs": [],
   "source": []
  }
 ],
 "metadata": {
  "kernelspec": {
   "display_name": "Python 3 (ipykernel)",
   "language": "python",
   "name": "python3"
  },
  "language_info": {
   "codemirror_mode": {
    "name": "ipython",
    "version": 3
   },
   "file_extension": ".py",
   "mimetype": "text/x-python",
   "name": "python",
   "nbconvert_exporter": "python",
   "pygments_lexer": "ipython3",
   "version": "3.8.16"
  }
 },
 "nbformat": 4,
 "nbformat_minor": 5
}
